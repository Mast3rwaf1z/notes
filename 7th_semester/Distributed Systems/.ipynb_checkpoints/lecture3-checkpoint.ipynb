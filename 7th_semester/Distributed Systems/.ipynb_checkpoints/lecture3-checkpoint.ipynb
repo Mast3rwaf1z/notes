{
 "cells": [
  {
   "cell_type": "code",
   "execution_count": 1,
   "id": "348b1430-86e7-4082-b97e-14f191d9b0da",
   "metadata": {},
   "outputs": [],
   "source": [
    "import socket\n",
    "from threading import Thread\n",
    "\n",
    "received = []\n",
    "\n",
    "class Client:\n",
    "    def __init__(self):\n",
    "        self.socket = socket.socket(socket.AF_INET, socket.SOCK_STREAM)\n",
    "        self.socket.connect(('localhost', 8888))\n",
    "        print(\"Initialized Client\")\n",
    "\n",
    "    def send(self, msg):\n",
    "        self.socket.send(f'{msg}\\n'.encode())\n",
    "\n",
    "\n",
    "class Server:\n",
    "    running = True\n",
    "    \n",
    "    def __init__(self):\n",
    "        self.socket = socket.socket(socket.AF_INET, socket.SOCK_STREAM)\n",
    "        self.socket.listen()\n",
    "\n",
    "        self._thread = Thread(target=self.handleThread)\n",
    "        self._thread.start()\n",
    "        print(\"Initialized Server\")\n",
    "\n",
    "    def handleThread(self):\n",
    "        while self.running:\n",
    "            client = self.socket.accept()\n",
    "            received.append(client.recv(1024))\n",
    "\n",
    "    def shutdown(self):\n",
    "        self.running = False\n",
    "        self.socket.shutdown()"
   ]
  },
  {
   "cell_type": "code",
   "execution_count": 2,
   "id": "ae3b43ce-27e7-4fe0-8e72-749e82366e63",
   "metadata": {},
   "outputs": [
    {
     "name": "stdout",
     "output_type": "stream",
     "text": [
      "Initialized Server\n",
      "Initialized Client\n"
     ]
    }
   ],
   "source": [
    "server = Server()\n",
    "client = Client()"
   ]
  },
  {
   "cell_type": "code",
   "execution_count": 3,
   "id": "287743e2-eb9d-460e-8af9-5ebfc3800d0f",
   "metadata": {},
   "outputs": [
    {
     "ename": "AttributeError",
     "evalue": "'socket' object has no attribute 'flush'",
     "output_type": "error",
     "traceback": [
      "\u001b[0;31m---------------------------------------------------------------------------\u001b[0m",
      "\u001b[0;31mAttributeError\u001b[0m                            Traceback (most recent call last)",
      "Cell \u001b[0;32mIn[3], line 1\u001b[0m\n\u001b[0;32m----> 1\u001b[0m \u001b[43mclient\u001b[49m\u001b[38;5;241;43m.\u001b[39;49m\u001b[43msend\u001b[49m\u001b[43m(\u001b[49m\u001b[38;5;124;43m\"\u001b[39;49m\u001b[38;5;124;43mtest\u001b[39;49m\u001b[38;5;124;43m\"\u001b[39;49m\u001b[43m)\u001b[49m\n\u001b[1;32m      2\u001b[0m \u001b[38;5;28mprint\u001b[39m(received[\u001b[38;5;241m-\u001b[39m\u001b[38;5;241m1\u001b[39m])\n",
      "Cell \u001b[0;32mIn[1], line 14\u001b[0m, in \u001b[0;36mClient.send\u001b[0;34m(self, msg)\u001b[0m\n\u001b[1;32m     12\u001b[0m \u001b[38;5;28;01mdef\u001b[39;00m \u001b[38;5;21msend\u001b[39m(\u001b[38;5;28mself\u001b[39m, msg):\n\u001b[1;32m     13\u001b[0m     \u001b[38;5;28mself\u001b[39m\u001b[38;5;241m.\u001b[39msocket\u001b[38;5;241m.\u001b[39msend(\u001b[38;5;124mf\u001b[39m\u001b[38;5;124m'\u001b[39m\u001b[38;5;132;01m{\u001b[39;00mmsg\u001b[38;5;132;01m}\u001b[39;00m\u001b[38;5;130;01m\\n\u001b[39;00m\u001b[38;5;124m'\u001b[39m\u001b[38;5;241m.\u001b[39mencode())\n\u001b[0;32m---> 14\u001b[0m     \u001b[38;5;28;43mself\u001b[39;49m\u001b[38;5;241;43m.\u001b[39;49m\u001b[43msocket\u001b[49m\u001b[38;5;241;43m.\u001b[39;49m\u001b[43mflush\u001b[49m()\n",
      "\u001b[0;31mAttributeError\u001b[0m: 'socket' object has no attribute 'flush'"
     ]
    }
   ],
   "source": [
    "client.send(\"test\")\n",
    "print(received[-1])"
   ]
  },
  {
   "cell_type": "code",
   "execution_count": null,
   "id": "a5c9cae7-b864-4c64-91ed-5065836bd02d",
   "metadata": {},
   "outputs": [],
   "source": []
  }
 ],
 "metadata": {
  "kernelspec": {
   "display_name": "Python 3 (ipykernel)",
   "language": "python",
   "name": "python3"
  },
  "language_info": {
   "codemirror_mode": {
    "name": "ipython",
    "version": 3
   },
   "file_extension": ".py",
   "mimetype": "text/x-python",
   "name": "python",
   "nbconvert_exporter": "python",
   "pygments_lexer": "ipython3",
   "version": "3.11.5"
  }
 },
 "nbformat": 4,
 "nbformat_minor": 5
}
