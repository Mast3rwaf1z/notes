{
 "cells": [
  {
   "cell_type": "markdown",
   "metadata": {},
   "source": [
    "# Algorithms"
   ]
  },
  {
   "cell_type": "markdown",
   "metadata": {},
   "source": [
    "## General code"
   ]
  },
  {
   "cell_type": "code",
   "execution_count": 1,
   "metadata": {},
   "outputs": [],
   "source": [
    "from threading import Thread, Lock, Barrier\n",
    "from typing import Any\n",
    "from copy import copy\n",
    "from random import randint\n",
    "from time import sleep"
   ]
  },
  {
   "cell_type": "markdown",
   "metadata": {},
   "source": [
    "These are just the libraries in use"
   ]
  },
  {
   "cell_type": "code",
   "execution_count": 2,
   "metadata": {},
   "outputs": [],
   "source": [
    "class Message:\n",
    "    def __init__(self, content:Any, nodeId:int):\n",
    "        self.content = content\n",
    "        self.nodeId = nodeId"
   ]
  },
  {
   "cell_type": "markdown",
   "metadata": {},
   "source": [
    "message has a content field, it can be anything\n",
    "\n",
    "and a nodeId field that signifies the sender node"
   ]
  },
  {
   "cell_type": "code",
   "execution_count": 3,
   "metadata": {},
   "outputs": [],
   "source": [
    "class Network:\n",
    "    lock:Lock = Lock()\n",
    "\n",
    "    def create(self, n:int, f:int, nodeClass) -> None:\n",
    "        self.n:int = n\n",
    "        self.f:int = f\n",
    "        self.nodes:dict[list[Message] | Node] = {i:{\n",
    "            \"object\":nodeClass(self, i),\n",
    "            \"received\":[]\n",
    "        } for i in range(n)}\n",
    "        for node in [data[\"object\"] for data in self.nodes.values()]:\n",
    "            node.start()\n",
    "    \n",
    "    def send(self, receiverId:int, message:Message) -> None:\n",
    "        self.lock.acquire()\n",
    "        if not receiverId in self.nodes.keys():\n",
    "            self.nodes[receiverId] = {\"received\":[]}\n",
    "        self.nodes[receiverId][\"received\"].append(copy(message))\n",
    "        self.lock.release()\n",
    "\n",
    "    def receive(self, nodeId:int) -> Message | None:\n",
    "        if len(self.nodes[nodeId][\"received\"]) == 0:\n",
    "            return None\n",
    "        else:\n",
    "            self.lock.acquire()\n",
    "            message = self.nodes[nodeId][\"received\"].pop(0)\n",
    "            self.lock.release()\n",
    "            return message\n",
    "        \n",
    "    def receiveFrom(self, receiverId:int, senderId:int) -> Message | None:\n",
    "        self.lock.acquire()\n",
    "        if not receiverId in self.nodes.keys():\n",
    "            self.nodes[receiverId] = {\"received\":[]}\n",
    "        for message in self.nodes[receiverId][\"received\"]:\n",
    "            if message.nodeId == senderId:\n",
    "                self.nodes[receiverId][\"received\"].remove(message)\n",
    "                self.lock.release()\n",
    "                return message\n",
    "        self.lock.release()\n",
    "        return None\n",
    "    \n",
    "    def multicast(self, group:list[int], message:Message) -> None:\n",
    "        for receiverId in group:\n",
    "            self.send(receiverId, message)\n",
    "\n",
    "    def wait(self):\n",
    "        while True:\n",
    "            if all([not data[\"object\"].running for data in self.nodes.values()]):\n",
    "                return\n",
    "\n",
    "class Node(Thread):\n",
    "    def __init__(self, network:Network, nodeId:int):\n",
    "        self.network:Network = network\n",
    "        self.nodeId:int = nodeId\n",
    "        self.running = True\n",
    "        super().__init__()\n"
   ]
  },
  {
   "cell_type": "markdown",
   "metadata": {},
   "source": [
    "The purpose of the classes above is to have a unified network and node class between algorithms"
   ]
  },
  {
   "cell_type": "markdown",
   "metadata": {},
   "source": [
    "## Phase-King Algorithm"
   ]
  },
  {
   "cell_type": "code",
   "execution_count": 4,
   "metadata": {},
   "outputs": [],
   "source": [
    "class PhaseKing(Node):\n",
    "    def run(self):\n",
    "        v = Message(randint(0, 10), self.nodeId)\n",
    "        for phase in range(0, self.network.n):\n",
    "            # Round 1\n",
    "            self.network.multicast(range(self.network.n), v)\n",
    "            vs = []\n",
    "            for _ in range(self.network.n):\n",
    "                while True:\n",
    "                    message = self.network.receive(self.nodeId)\n",
    "                    if message is not None:\n",
    "                        vs.append(message)\n",
    "                        break\n",
    "            mult = 0\n",
    "            for value in vs:\n",
    "                count = vs.count(value)\n",
    "                if count > mult:\n",
    "                    mult = count\n",
    "                    v = value\n",
    "            if mult < self.network.n/2:\n",
    "                v = v\n",
    "            \n",
    "            # Round 2\n",
    "            if self.nodeId == phase:\n",
    "                v.nodeId = self.nodeId\n",
    "                print(f'{self.nodeId} is king')\n",
    "                self.network.multicast(range(self.network.n), v)\n",
    "            while True:\n",
    "                message = self.network.receiveFrom(self.nodeId, phase)\n",
    "                if message is not None:\n",
    "                    v_k = message\n",
    "                    break\n",
    "            if mult <= (self.network.n)/2 + self.network.f:\n",
    "                v = v_k\n",
    "            \n",
    "        print(f'value: {v.content}')\n",
    "        self.v = v # save the value\n",
    "        self.running = False"
   ]
  },
  {
   "cell_type": "markdown",
   "metadata": {},
   "source": [
    "The above code is for the Phase-King algorithm"
   ]
  },
  {
   "cell_type": "code",
   "execution_count": 5,
   "metadata": {},
   "outputs": [
    {
     "name": "stdout",
     "output_type": "stream",
     "text": [
      "0 is king\n",
      "1 is king\n",
      "2 is king\n",
      "3 is king\n",
      "value: 7\n",
      "value: 7\n",
      "value: 7\n",
      "value: 7\n",
      "is there consensus? True\n"
     ]
    }
   ],
   "source": [
    "network = Network()\n",
    "network.create(4, f=1, nodeClass=PhaseKing)\n",
    "\n",
    "network.wait()\n",
    "\n",
    "print(f\"is there consensus? {all([data['object'].v.content == network.nodes[0]['object'].v.content for data in network.nodes.values()])}\")"
   ]
  },
  {
   "cell_type": "markdown",
   "metadata": {},
   "source": [
    "Above we're testing the phase-king algorithm, and as shown it gets to a consensus"
   ]
  },
  {
   "cell_type": "markdown",
   "metadata": {},
   "source": [
    "## Replication"
   ]
  },
  {
   "cell_type": "code",
   "execution_count": 6,
   "metadata": {},
   "outputs": [],
   "source": [
    "import json\n",
    "\n",
    "class RobustDatabase(Node):\n",
    "\n",
    "    def __init__(self, network, id):\n",
    "        self.running = True\n",
    "        self.database = {}\n",
    "        super().__init__(network, id)\n",
    "\n",
    "    def run(self):\n",
    "        while self.running:\n",
    "            message = self.network.receive(self.nodeId)\n",
    "            if message is not None:\n",
    "                id = message.nodeId\n",
    "                data = message.content\n",
    "                match data[\"mode\"]:\n",
    "                    case \"sync\":\n",
    "                        self.database[data[\"key\"]] = data[\"value\"]\n",
    "                    case \"addData\":\n",
    "                        self.database[data[\"key\"]] = data[\"value\"]\n",
    "                        message.content[\"mode\"] = \"sync\"\n",
    "                        self.network.multicast(range(self.network.n), message)\n",
    "                        self.network.send(id, Message(None, self.nodeId))\n",
    "                    case _:\n",
    "                        self.network.send(id, Message(self.database[data[\"key\"]], self.nodeId))\n",
    "        print(f\"Node {self.nodeId} finished execution\")\n",
    "\n",
    "    def crash(self):\n",
    "        self.running = False"
   ]
  },
  {
   "cell_type": "code",
   "execution_count": 7,
   "metadata": {},
   "outputs": [
    {
     "name": "stdout",
     "output_type": "stream",
     "text": [
      "initialized app\n",
      "put resource\n",
      "Got resource at test at node 1: test\n",
      "Crashing node 0\n",
      "Crashing node 4\n",
      "Node 4 finished execution\n",
      "Node 0 finished execution\n",
      "Got resource at test at node 4: test\n"
     ]
    }
   ],
   "source": [
    "class App:\n",
    "    def __init__(self):\n",
    "        self.network = Network()\n",
    "        self.network.create(10, None, RobustDatabase)\n",
    "\n",
    "    def getResource(self, key, nodeId) -> Any:\n",
    "        counter = 0\n",
    "        finalCounter = 0\n",
    "        myMessage = Message({\"mode\":\"\", \"key\":key}, -1)\n",
    "        self.network.send(nodeId, myMessage)\n",
    "        while True:\n",
    "            message = self.network.receiveFrom(-1, nodeId)\n",
    "            if message is not None:\n",
    "                return message.content\n",
    "            sleep(1)\n",
    "            if counter == 10:\n",
    "                nodeId += 1 if nodeId < self.network.n else 0\n",
    "                self.network.send(nodeId, myMessage)\n",
    "                counter = 0\n",
    "                finalCounter += 1\n",
    "            if finalCounter == 10:\n",
    "                return None\n",
    "\n",
    "    def putResource(self, key, value, nodeId) -> None:\n",
    "        myMessage = Message({\"mode\":\"addData\", \"key\":key, \"value\":value}, -1)\n",
    "        self.network.send(nodeId, myMessage)\n",
    "        while self.network.receiveFrom(-1, nodeId) is None: pass\n",
    "\n",
    "app = App()\n",
    "print(\"initialized app\")\n",
    "app.putResource(\"test\", \"test\", 0)\n",
    "print(\"put resource test:test at node 0\")\n",
    "print(f'Got resource at test at node {1}: {app.getResource(\"test\", 1)}')\n",
    "n = randint(0, app.network.n)\n",
    "print(f\"Crashing node {n}\")\n",
    "app.network.nodes[n][\"object\"].crash()\n",
    "n = randint(0, app.network.n)\n",
    "print(f\"Crashing node {n}\")\n",
    "app.network.nodes[n][\"object\"].crash()\n",
    "print(f'Got resource at test at node {n}: {app.getResource(\"test\", n)}')"
   ]
  },
  {
   "cell_type": "markdown",
   "metadata": {},
   "source": [
    "## Blockchains"
   ]
  },
  {
   "cell_type": "code",
   "execution_count": 8,
   "metadata": {},
   "outputs": [],
   "source": [
    "from time import time\n",
    "from hashlib import sha256\n",
    "\n",
    "class HashPointer:\n",
    "    def __init__(self, address, data):\n",
    "        self.address = address\n",
    "        self.hash = sha256(data.encode()).hexdigest()\n",
    "\n",
    "\n",
    "class Block(Node):\n",
    "    def __init__(self, network, nodeId, data):\n",
    "        super().__init__(network, nodeId)\n",
    "        addr = self.nodeId+1 if self.nodeId < self.network.n else 0\n",
    "        self.data = data\n",
    "        self.HP = HashPointer(addr, data)\n",
    "\n",
    "\n"
   ]
  }
 ],
 "metadata": {
  "kernelspec": {
   "display_name": "Python 3",
   "language": "python",
   "name": "python3"
  },
  "language_info": {
   "codemirror_mode": {
    "name": "ipython",
    "version": 3
   },
   "file_extension": ".py",
   "mimetype": "text/x-python",
   "name": "python",
   "nbconvert_exporter": "python",
   "pygments_lexer": "ipython3",
   "version": "3.11.6"
  }
 },
 "nbformat": 4,
 "nbformat_minor": 2
}
