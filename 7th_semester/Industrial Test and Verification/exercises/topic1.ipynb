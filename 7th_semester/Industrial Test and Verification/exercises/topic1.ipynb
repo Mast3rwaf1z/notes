{
 "cells": [
  {
   "cell_type": "markdown",
   "metadata": {},
   "source": [
    "Exercise 1: Boundary value testing\n",
    "\n",
    "Implement an extension to worst-case boundary-value testing:\n",
    "\n",
    "I'm not good at julia, so i'm gonna write some tests in python"
   ]
  },
  {
   "cell_type": "code",
   "execution_count": 1,
   "metadata": {},
   "outputs": [],
   "source": [
    "# implementation we're testing\n",
    "def isLeapYear(y):\n",
    "    return y % 4 == 0 and (y % 100 != 0 or y % 400 == 0)\n",
    "\n",
    "def NextDate(day, month, year):\n",
    "    if month == 2:\n",
    "        if isLeapYear(year):\n",
    "            days = 28\n",
    "        else:\n",
    "            days = 27\n",
    "    elif month in [1,3,5,6,8,10,12]:\n",
    "        days = 31\n",
    "    else:\n",
    "        days = 30\n",
    "    if day > days:\n",
    "        d, m, y = (1,month+1 if not month == 12 else 1, year+1 if month == 12 else year)\n",
    "    else:\n",
    "        d,m,y = (d+1,m,y)\n",
    "    return d, m, y"
   ]
  },
  {
   "cell_type": "code",
   "execution_count": null,
   "metadata": {},
   "outputs": [],
   "source": [
    "def generateTestCases(mins:list[int], maxs:list[int], single_fault, robust):\n",
    "    tests:list[function] = []\n",
    "    for i in range(len(mins)):\n",
    "        d, m, y = (maxs[j]-mins[j] if not i == j else mins[j] for j in range(len(mins)))\n",
    "        tests.append(lambda: NextDate(d, m, y))\n",
    "        d, m, y = (maxs[j]-mins[j] if not i == j else maxs[j] for j in range(len(mins)))\n",
    "        tests.append(lambda: NextDate(d, m, y))\n",
    "        d, m, y = (maxs[j]-mins[j] for j in range(len(mins)))\n",
    "        tests.append(lambda: NextDate(d, m, y))\n",
    "        d, m, y = (maxs[j]-mins[j] if not i == j else mins[j]+1 for j in range(len(mins)))\n",
    "        tests.append(lambda: NextDate(d, m, y))\n",
    "        d, m, y = (maxs[j]-mins[j] if not i == j else maxs[j]-1 for j in range(len(mins)))\n",
    "        tests.append(lambda: NextDate(d, m, y))\n",
    "        if robust:\n",
    "            d, m, y = (maxs[j]-mins[j] if not i == j else maxs[j]+1 for j in range(len(mins)))\n",
    "            tests.append(lambda: NextDate(d, m, y))\n",
    "            d, m, y = (maxs[j]-mins[j] if not i == j else mins[j]-1 for j in range(len(mins)))\n",
    "\n",
    "        return tests\n",
    "            \n",
    "        \n",
    "            \n",
    "\n",
    "# Test implementation\n",
    "def test(single_fault, robust):\n",
    "    mins = [1,1,1]\n",
    "    maxs = [31, 12, 2050]\n",
    "    \n",
    "    tests = generateTestCases(mins, maxs, single_fault, robust)\n",
    "\n",
    "    for test in tests:\n",
    "        test()\n",
    "\n",
    "test(True, True)"
   ]
  },
  {
   "cell_type": "markdown",
   "metadata": {},
   "source": []
  }
 ],
 "metadata": {
  "kernelspec": {
   "display_name": "Python 3",
   "language": "python",
   "name": "python3"
  },
  "language_info": {
   "codemirror_mode": {
    "name": "ipython",
    "version": 3
   },
   "file_extension": ".py",
   "mimetype": "text/x-python",
   "name": "python",
   "nbconvert_exporter": "python",
   "pygments_lexer": "ipython3",
   "version": "3.11.6"
  }
 },
 "nbformat": 4,
 "nbformat_minor": 2
}
