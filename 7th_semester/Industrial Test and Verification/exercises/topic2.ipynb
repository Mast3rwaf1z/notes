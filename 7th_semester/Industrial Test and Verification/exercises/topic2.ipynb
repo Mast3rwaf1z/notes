{
 "cells": [
  {
   "cell_type": "markdown",
   "metadata": {},
   "source": [
    "Exercise 2: Coverage criteria\n",
    "\n",
    "Provide a test suite with maximal statement coverage:\n",
    "\n",
    "a)\n",
    "* [(1,1), 0]\n",
    "\n",
    "b)\n",
    "* [(0,0),0]\n",
    "* [(1,0),1]\n",
    "* [(1,1),2]\n",
    "* [(0,1),3]\n",
    "\n",
    "c)\n",
    "* [(0,1),3]\n",
    "\n",
    "Exercise 3: Coverage vs. finding faults:\n",
    "\n",
    "a)\n",
    "\n",
    "100% branch coverage can be found by considering the branch (0,0) and (1,0), as one makes both if statements true, and the other makes neither true\n",
    "\n",
    "b)\n",
    "\n",
    "```\n",
    "int foo(int x, int y){\n",
    "    z := x + y;\n",
    "    w := 0;\n",
    "    if ((y > 0) && (z > 0)){\n",
    "        w := 1;\n",
    "    }\n",
    "    if (x > 0){\n",
    "        z := 10;\n",
    "    }\n",
    "    return w;\n",
    "}\n",
    "```\n",
    "as z is not used anyway..."
   ]
  },
  {
   "cell_type": "markdown",
   "metadata": {},
   "source": []
  }
 ],
 "metadata": {
  "kernelspec": {
   "display_name": "Bash",
   "language": "bash",
   "name": "bash"
  },
  "language_info": {
   "name": "bash"
  }
 },
 "nbformat": 4,
 "nbformat_minor": 2
}
