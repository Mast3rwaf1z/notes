{
 "cells": [
  {
   "cell_type": "code",
   "execution_count": 13,
   "id": "348b1430-86e7-4082-b97e-14f191d9b0da",
   "metadata": {},
   "outputs": [
    {
     "name": "stdout",
     "output_type": "stream",
     "text": [
      "started handler thread\n",
      "Initialized Server\n",
      "Initialized Client\n"
     ]
    }
   ],
   "source": [
    "import socket\n",
    "from threading import Thread\n",
    "\n",
    "received = []\n",
    "\n",
    "class Client:\n",
    "    def __init__(self):\n",
    "        self.socket = socket.socket(socket.AF_INET, socket.SOCK_STREAM)\n",
    "        self.socket.connect(('localhost', 8888))\n",
    "        print(\"Initialized Client\")\n",
    "\n",
    "    def send(self, msg):\n",
    "        self.socket.send(f'{msg}\\n'.encode())\n",
    "\n",
    "\n",
    "class Server:\n",
    "    running = True\n",
    "    \n",
    "    def __init__(self):\n",
    "        self.socket = socket.socket(socket.AF_INET, socket.SOCK_STREAM)\n",
    "        self.socket.listen()\n",
    "\n",
    "        self._thread = Thread(target=self.handleThread)\n",
    "        self._thread.start()\n",
    "        print(\"Initialized Server\")\n",
    "\n",
    "    def handleThread(self):\n",
    "        global received\n",
    "        print(\"started handler thread\")\n",
    "        while self.running:\n",
    "            client = self.socket.accept()\n",
    "            received.append(client.recv(1024))\n",
    "\n",
    "    def shutdown(self):\n",
    "        self.running = False\n",
    "        self.socket.shutdown()\n",
    "\n",
    "server = Server()\n",
    "client = Client()\n",
    "\n",
    "client.send(\"test\")"
   ]
  },
  {
   "cell_type": "code",
   "execution_count": 14,
   "id": "ae3b43ce-27e7-4fe0-8e72-749e82366e63",
   "metadata": {},
   "outputs": [
    {
     "name": "stdout",
     "output_type": "stream",
     "text": [
      "started handler thread\n",
      "Initialized Server\n",
      "Initialized Client\n"
     ]
    }
   ],
   "source": [
    "server = Server()\n",
    "client = Client()"
   ]
  },
  {
   "cell_type": "code",
   "execution_count": 15,
   "id": "287743e2-eb9d-460e-8af9-5ebfc3800d0f",
   "metadata": {},
   "outputs": [
    {
     "ename": "IndexError",
     "evalue": "list index out of range",
     "output_type": "error",
     "traceback": [
      "\u001b[0;31m---------------------------------------------------------------------------\u001b[0m",
      "\u001b[0;31mIndexError\u001b[0m                                Traceback (most recent call last)",
      "Cell \u001b[0;32mIn[15], line 2\u001b[0m\n\u001b[1;32m      1\u001b[0m client\u001b[38;5;241m.\u001b[39msend(\u001b[38;5;124m\"\u001b[39m\u001b[38;5;124mtest\u001b[39m\u001b[38;5;124m\"\u001b[39m)\n\u001b[0;32m----> 2\u001b[0m \u001b[38;5;28mprint\u001b[39m(\u001b[43mreceived\u001b[49m\u001b[43m[\u001b[49m\u001b[38;5;241;43m-\u001b[39;49m\u001b[38;5;241;43m1\u001b[39;49m\u001b[43m]\u001b[49m)\n",
      "\u001b[0;31mIndexError\u001b[0m: list index out of range"
     ]
    }
   ],
   "source": [
    "client.send(\"test\")\n",
    "print(received[-1])"
   ]
  },
  {
   "cell_type": "code",
   "execution_count": null,
   "id": "db2938c7-652c-4d8f-90c3-ed2dd5bcf0ce",
   "metadata": {},
   "outputs": [],
   "source": []
  }
 ],
 "metadata": {
  "kernelspec": {
   "display_name": "Python 3 (ipykernel)",
   "language": "python",
   "name": "python3"
  },
  "language_info": {
   "codemirror_mode": {
    "name": "ipython",
    "version": 3
   },
   "file_extension": ".py",
   "mimetype": "text/x-python",
   "name": "python",
   "nbconvert_exporter": "python",
   "pygments_lexer": "ipython3",
   "version": "3.11.5"
  }
 },
 "nbformat": 4,
 "nbformat_minor": 5
}
