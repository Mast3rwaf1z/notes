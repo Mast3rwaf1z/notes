{
 "cells": [
  {
   "cell_type": "markdown",
   "id": "fa7b9923-1433-443b-bd1b-d8fba1e205ef",
   "metadata": {},
   "source": [
    "# Exercise session 1\n",
    "1. Consider the information given in Figure 1 and do the following\n",
    "a. Find those that star in \"Borgen\"<br>\n"
   ]
  }
 ],
 "metadata": {
  "kernelspec": {
   "display_name": "Python 3 (ipykernel)",
   "language": "python",
   "name": "python3"
  },
  "language_info": {
   "codemirror_mode": {
    "name": "ipython",
    "version": 3
   },
   "file_extension": ".py",
   "mimetype": "text/x-python",
   "name": "python",
   "nbconvert_exporter": "python",
   "pygments_lexer": "ipython3",
   "version": "3.11.6"
  }
 },
 "nbformat": 4,
 "nbformat_minor": 5
}
