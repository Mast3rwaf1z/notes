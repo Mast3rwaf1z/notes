{
 "cells": [
  {
   "cell_type": "markdown",
   "id": "fa7b9923-1433-443b-bd1b-d8fba1e205ef",
   "metadata": {},
   "source": [
    "# Exercise session 1\n",
    "1. Consider the information given in Figure 1 and do the following<br>\n",
    "a. Find those that star in \"Borgen\"<br>\n",
    "solution: Pilow Asbæk, Mikael Birkkjær, Søren Malling<br>\n",
    "b. Find locations in Denmark<br>\n",
    "solution: Copenhagen, Kjellerup<br>\n",
    "c. Find works where at least three Danes star<br>\n",
    "solution: Borgen<br>\n",
    "d. Find actors that have worked together in at least two TV series<br>\n",
    "solution: []<br>\n",
    "e. Find pairs of persons that know each other<br>\n",
    "solution: []<br>\n",
    "f: Describe the informationm provided by the graph using sentences in English<br>\n",
    "solution: This graph provides information about a set of actors, the works they've starred in and where they were born.<br>\n",
    "g: How many statements (simple sentences or triples) are expressed in this graph<br>\n",
    "solution: (Pilou Asbæk, birth place, Copenhagen), (Pilou Asbæk, stars in, Borgen), (Pilou Asbæk, stars in, A war), (Copenhagen,located in,Denmark), (Borgen, type, Tv Serie), (A War, type, Movie), (Mikael Birkkjæk, birth place, Copenhagen), (Mikael Birkkjær, stars in, Borgen), (Mikael Birkkjær, stars in, The Killing), (Søren Malling, birth place, Kjellerup), (Kjellerup, located in, Denmark), (Søren Malling, stars in, A war), (Søren Malling, stars in, The Killing)<br>\n",
    "h: How many different entities are described by graph?<br>\n",
    "solution: 11"
   ]
  },
  {
   "cell_type": "markdown",
   "id": "d1d9e81e-160b-41da-b0d3-669826bf068d",
   "metadata": {},
   "source": [
    "2. Choose three websites that you have recently visited and check to what extend they use Schema.org to annotate their web pages. Make a keyword search using a search engine and keywords related to those websites, and check to what extend the top-3 results use the schema.org specification. Did the websites that you had recently visited show up in the first page of the results?<br>\n",
    "first: https://wowhead.com<br>\n",
    "second: "
   ]
  },
  {
   "cell_type": "code",
   "execution_count": null,
   "id": "4609da9e-537e-4068-8f4c-e8e4cd58ec4b",
   "metadata": {},
   "outputs": [],
   "source": []
  }
 ],
 "metadata": {
  "kernelspec": {
   "display_name": "Python 3 (ipykernel)",
   "language": "python",
   "name": "python3"
  },
  "language_info": {
   "codemirror_mode": {
    "name": "ipython",
    "version": 3
   },
   "file_extension": ".py",
   "mimetype": "text/x-python",
   "name": "python",
   "nbconvert_exporter": "python",
   "pygments_lexer": "ipython3",
   "version": "3.11.6"
  }
 },
 "nbformat": 4,
 "nbformat_minor": 5
}
